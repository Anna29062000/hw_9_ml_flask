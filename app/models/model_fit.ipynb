{
 "cells": [
  {
   "cell_type": "code",
   "execution_count": 1,
   "metadata": {},
   "outputs": [
    {
     "name": "stdout",
     "output_type": "stream",
     "text": [
      "RMSE: 48941.70034309343\n",
      "MAE: 31628.40731104651\n",
      "R²: 0.8172104989933294\n",
      "Relative RMSE: 0.0033053495170107957\n"
     ]
    }
   ],
   "source": [
    "import pandas as pd\n",
    "import tarfile\n",
    "import requests\n",
    "from io import BytesIO\n",
    "from sklearn.model_selection import train_test_split\n",
    "from sklearn.preprocessing import StandardScaler, OneHotEncoder\n",
    "from sklearn.ensemble import RandomForestRegressor\n",
    "from sklearn.metrics import mean_squared_error, mean_absolute_error, r2_score\n",
    "from sklearn.pipeline import Pipeline\n",
    "from sklearn.compose import ColumnTransformer\n",
    "from sklearn.impute import SimpleImputer\n",
    "import numpy as np\n",
    "import dill\n",
    "\n",
    "# Загрузка и извлечение датасета\n",
    "url = \"https://raw.githubusercontent.com/ageron/handson-ml/master/datasets/housing/housing.tgz\"\n",
    "response = requests.get(url)\n",
    "\n",
    "# Извлечение содержимого\n",
    "with tarfile.open(fileobj=BytesIO(response.content), mode='r:gz') as tar:\n",
    "    tar.extractall(path='./housing_data')\n",
    "\n",
    "# Загрузка данных в DataFrame\n",
    "df = pd.read_csv('./housing_data/housing.csv')\n",
    "\n",
    "# Определение признаков и целевой переменной\n",
    "X = df.drop(\"median_house_value\", axis=1)\n",
    "y = df[\"median_house_value\"]\n",
    "\n",
    "# Определение числовых и категориальных признаков\n",
    "numeric_features = X.select_dtypes(include=['float64', 'int64']).columns\n",
    "categorical_features = X.select_dtypes(include=['object']).columns\n",
    "\n",
    "# Создание предобработчика\n",
    "numeric_transformer = Pipeline(steps=[\n",
    "    ('imputer', SimpleImputer(strategy='median')),  # Обработка пропусков\n",
    "    ('scaler', StandardScaler())                    # Стандартизация\n",
    "])\n",
    "\n",
    "categorical_transformer = Pipeline(steps=[\n",
    "    ('imputer', SimpleImputer(strategy='constant', fill_value='missing')),  # Обработка пропусков\n",
    "    ('onehot', OneHotEncoder(handle_unknown='ignore'))  # Преобразование в дамми-переменные\n",
    "])\n",
    "\n",
    "# Объединение предобработчиков\n",
    "preprocessor = ColumnTransformer(\n",
    "    transformers=[\n",
    "        ('num', numeric_transformer, numeric_features),\n",
    "        ('cat', categorical_transformer, categorical_features)\n",
    "    ])\n",
    "\n",
    "# Создание полного пайплайна\n",
    "pipeline = Pipeline(steps=[\n",
    "    ('preprocessor', preprocessor),\n",
    "    ('model', RandomForestRegressor(random_state=42))\n",
    "])\n",
    "\n",
    "# Разделение данных на обучающую и тестовую выборки\n",
    "X_train, X_test, y_train, y_test = train_test_split(X, y, test_size=0.2, random_state=42)\n",
    "\n",
    "# Обучение модели\n",
    "pipeline.fit(X_train, y_train)\n",
    "\n",
    "# Предсказание и оценка модели\n",
    "y_pred = pipeline.predict(X_test)\n",
    "\n",
    "# Оценка производительности\n",
    "mse = mean_squared_error(y_test, y_pred)\n",
    "mae = mean_absolute_error(y_test, y_pred)\n",
    "r2 = r2_score(y_test, y_pred)\n",
    "rmse = np.sqrt(mse)\n",
    "\n",
    "# Вычисление относительного RMSE\n",
    "rrmse = (rmse/(sum([x ** 2 for x in y_pred])**0.5))\n",
    "\n",
    "# Печать результатов\n",
    "print(f\"RMSE: {rmse}\")\n",
    "print(f\"MAE: {mae}\")\n",
    "print(f\"R²: {r2}\")\n",
    "print(f\"Relative RMSE: {rrmse}\")"
   ]
  },
  {
   "cell_type": "code",
   "execution_count": 2,
   "metadata": {},
   "outputs": [
    {
     "data": {
      "text/plain": [
       "[('preprocessor',\n",
       "  ColumnTransformer(transformers=[('num',\n",
       "                                   Pipeline(steps=[('imputer',\n",
       "                                                    SimpleImputer(strategy='median')),\n",
       "                                                   ('scaler', StandardScaler())]),\n",
       "                                   Index(['longitude', 'latitude', 'housing_median_age', 'total_rooms',\n",
       "         'total_bedrooms', 'population', 'households', 'median_income'],\n",
       "        dtype='object')),\n",
       "                                  ('cat',\n",
       "                                   Pipeline(steps=[('imputer',\n",
       "                                                    SimpleImputer(fill_value='missing',\n",
       "                                                                  strategy='constant')),\n",
       "                                                   ('onehot',\n",
       "                                                    OneHotEncoder(handle_unknown='ignore'))]),\n",
       "                                   Index(['ocean_proximity'], dtype='object'))])),\n",
       " ('model', RandomForestRegressor(random_state=42))]"
      ]
     },
     "execution_count": 2,
     "metadata": {},
     "output_type": "execute_result"
    }
   ],
   "source": [
    "pipeline.steps"
   ]
  },
  {
   "cell_type": "code",
   "execution_count": 3,
   "metadata": {},
   "outputs": [],
   "source": [
    "with open(\"regression.dill\", \"wb\") as f:\n",
    "    dill.dump(pipeline, f)"
   ]
  }
 ],
 "metadata": {
  "kernelspec": {
   "display_name": "Python 3",
   "language": "python",
   "name": "python3"
  },
  "language_info": {
   "codemirror_mode": {
    "name": "ipython",
    "version": 3
   },
   "file_extension": ".py",
   "mimetype": "text/x-python",
   "name": "python",
   "nbconvert_exporter": "python",
   "pygments_lexer": "ipython3",
   "version": "3.10.2"
  },
  "orig_nbformat": 4,
  "vscode": {
   "interpreter": {
    "hash": "ccfea65839ea7b4cb7611917847ae955f8a5d3f7496a05c88f3bf628abe673bf"
   }
  }
 },
 "nbformat": 4,
 "nbformat_minor": 2
}
